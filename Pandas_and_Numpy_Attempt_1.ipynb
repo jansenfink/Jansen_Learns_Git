{
 "cells": [
  {
   "cell_type": "code",
   "execution_count": 1,
   "metadata": {},
   "outputs": [],
   "source": [
    "import numpy as np"
   ]
  },
  {
   "cell_type": "code",
   "execution_count": 2,
   "metadata": {},
   "outputs": [],
   "source": [
    "new_array = np.array([4,86,4,2,6,8,5,8,34,1])"
   ]
  },
  {
   "cell_type": "code",
   "execution_count": 3,
   "metadata": {},
   "outputs": [
    {
     "data": {
      "text/plain": [
       "array([ 4, 86,  4,  2,  6,  8,  5,  8, 34,  1])"
      ]
     },
     "execution_count": 3,
     "metadata": {},
     "output_type": "execute_result"
    }
   ],
   "source": [
    "new_array"
   ]
  },
  {
   "cell_type": "code",
   "execution_count": 4,
   "metadata": {},
   "outputs": [
    {
     "data": {
      "text/plain": [
       "15.8"
      ]
     },
     "execution_count": 4,
     "metadata": {},
     "output_type": "execute_result"
    }
   ],
   "source": [
    "new_array.mean()"
   ]
  },
  {
   "cell_type": "code",
   "execution_count": 5,
   "metadata": {},
   "outputs": [
    {
     "data": {
      "text/plain": [
       "25.063120316512865"
      ]
     },
     "execution_count": 5,
     "metadata": {},
     "output_type": "execute_result"
    }
   ],
   "source": [
    "new_array.std()"
   ]
  },
  {
   "cell_type": "code",
   "execution_count": 6,
   "metadata": {},
   "outputs": [],
   "source": [
    "import pandas as pd"
   ]
  },
  {
   "cell_type": "code",
   "execution_count": 7,
   "metadata": {},
   "outputs": [],
   "source": [
    "animal = pd.read_csv(\"Austin_Animal_Center_Outcomes.csv\")"
   ]
  },
  {
   "cell_type": "code",
   "execution_count": 8,
   "metadata": {},
   "outputs": [
    {
     "data": {
      "text/html": [
       "<div>\n",
       "<style scoped>\n",
       "    .dataframe tbody tr th:only-of-type {\n",
       "        vertical-align: middle;\n",
       "    }\n",
       "\n",
       "    .dataframe tbody tr th {\n",
       "        vertical-align: top;\n",
       "    }\n",
       "\n",
       "    .dataframe thead th {\n",
       "        text-align: right;\n",
       "    }\n",
       "</style>\n",
       "<table border=\"1\" class=\"dataframe\">\n",
       "  <thead>\n",
       "    <tr style=\"text-align: right;\">\n",
       "      <th></th>\n",
       "      <th>Animal ID</th>\n",
       "      <th>Name</th>\n",
       "      <th>DateTime</th>\n",
       "      <th>MonthYear</th>\n",
       "      <th>Date of Birth</th>\n",
       "      <th>Outcome Type</th>\n",
       "      <th>Outcome Subtype</th>\n",
       "      <th>Animal Type</th>\n",
       "      <th>Sex upon Outcome</th>\n",
       "      <th>Age upon Outcome</th>\n",
       "      <th>Breed</th>\n",
       "      <th>Color</th>\n",
       "    </tr>\n",
       "  </thead>\n",
       "  <tbody>\n",
       "    <tr>\n",
       "      <th>0</th>\n",
       "      <td>A794011</td>\n",
       "      <td>Chunk</td>\n",
       "      <td>05/08/2019 06:20:00 PM</td>\n",
       "      <td>05/08/2019 06:20:00 PM</td>\n",
       "      <td>05/02/2017</td>\n",
       "      <td>Rto-Adopt</td>\n",
       "      <td>NaN</td>\n",
       "      <td>Cat</td>\n",
       "      <td>Neutered Male</td>\n",
       "      <td>2 years</td>\n",
       "      <td>Domestic Shorthair Mix</td>\n",
       "      <td>Brown Tabby/White</td>\n",
       "    </tr>\n",
       "    <tr>\n",
       "      <th>1</th>\n",
       "      <td>A776359</td>\n",
       "      <td>Gizmo</td>\n",
       "      <td>07/18/2018 04:02:00 PM</td>\n",
       "      <td>07/18/2018 04:02:00 PM</td>\n",
       "      <td>07/12/2017</td>\n",
       "      <td>Adoption</td>\n",
       "      <td>NaN</td>\n",
       "      <td>Dog</td>\n",
       "      <td>Neutered Male</td>\n",
       "      <td>1 year</td>\n",
       "      <td>Chihuahua Shorthair Mix</td>\n",
       "      <td>White/Brown</td>\n",
       "    </tr>\n",
       "    <tr>\n",
       "      <th>2</th>\n",
       "      <td>A720371</td>\n",
       "      <td>Moose</td>\n",
       "      <td>02/13/2016 05:59:00 PM</td>\n",
       "      <td>02/13/2016 05:59:00 PM</td>\n",
       "      <td>10/08/2015</td>\n",
       "      <td>Adoption</td>\n",
       "      <td>NaN</td>\n",
       "      <td>Dog</td>\n",
       "      <td>Neutered Male</td>\n",
       "      <td>4 months</td>\n",
       "      <td>Anatol Shepherd/Labrador Retriever</td>\n",
       "      <td>Buff</td>\n",
       "    </tr>\n",
       "    <tr>\n",
       "      <th>3</th>\n",
       "      <td>A674754</td>\n",
       "      <td>NaN</td>\n",
       "      <td>03/18/2014 11:47:00 AM</td>\n",
       "      <td>03/18/2014 11:47:00 AM</td>\n",
       "      <td>03/12/2014</td>\n",
       "      <td>Transfer</td>\n",
       "      <td>Partner</td>\n",
       "      <td>Cat</td>\n",
       "      <td>Intact Male</td>\n",
       "      <td>6 days</td>\n",
       "      <td>Domestic Shorthair Mix</td>\n",
       "      <td>Orange Tabby</td>\n",
       "    </tr>\n",
       "    <tr>\n",
       "      <th>4</th>\n",
       "      <td>A689724</td>\n",
       "      <td>*Donatello</td>\n",
       "      <td>10/18/2014 06:52:00 PM</td>\n",
       "      <td>10/18/2014 06:52:00 PM</td>\n",
       "      <td>08/01/2014</td>\n",
       "      <td>Adoption</td>\n",
       "      <td>NaN</td>\n",
       "      <td>Cat</td>\n",
       "      <td>Neutered Male</td>\n",
       "      <td>2 months</td>\n",
       "      <td>Domestic Shorthair Mix</td>\n",
       "      <td>Black</td>\n",
       "    </tr>\n",
       "    <tr>\n",
       "      <th>...</th>\n",
       "      <td>...</td>\n",
       "      <td>...</td>\n",
       "      <td>...</td>\n",
       "      <td>...</td>\n",
       "      <td>...</td>\n",
       "      <td>...</td>\n",
       "      <td>...</td>\n",
       "      <td>...</td>\n",
       "      <td>...</td>\n",
       "      <td>...</td>\n",
       "      <td>...</td>\n",
       "      <td>...</td>\n",
       "    </tr>\n",
       "    <tr>\n",
       "      <th>120545</th>\n",
       "      <td>A823165</td>\n",
       "      <td>NaN</td>\n",
       "      <td>09/17/2020 07:35:00 PM</td>\n",
       "      <td>09/17/2020 07:35:00 PM</td>\n",
       "      <td>08/25/2020</td>\n",
       "      <td>Transfer</td>\n",
       "      <td>Partner</td>\n",
       "      <td>Cat</td>\n",
       "      <td>Intact Female</td>\n",
       "      <td>3 weeks</td>\n",
       "      <td>Domestic Shorthair</td>\n",
       "      <td>Black</td>\n",
       "    </tr>\n",
       "    <tr>\n",
       "      <th>120546</th>\n",
       "      <td>A823167</td>\n",
       "      <td>NaN</td>\n",
       "      <td>09/17/2020 07:35:00 PM</td>\n",
       "      <td>09/17/2020 07:35:00 PM</td>\n",
       "      <td>08/25/2020</td>\n",
       "      <td>Transfer</td>\n",
       "      <td>Partner</td>\n",
       "      <td>Cat</td>\n",
       "      <td>Intact Female</td>\n",
       "      <td>3 weeks</td>\n",
       "      <td>Domestic Shorthair</td>\n",
       "      <td>Black</td>\n",
       "    </tr>\n",
       "    <tr>\n",
       "      <th>120547</th>\n",
       "      <td>A823166</td>\n",
       "      <td>NaN</td>\n",
       "      <td>09/17/2020 07:35:00 PM</td>\n",
       "      <td>09/17/2020 07:35:00 PM</td>\n",
       "      <td>08/25/2020</td>\n",
       "      <td>Transfer</td>\n",
       "      <td>Partner</td>\n",
       "      <td>Cat</td>\n",
       "      <td>Intact Female</td>\n",
       "      <td>3 weeks</td>\n",
       "      <td>Domestic Shorthair</td>\n",
       "      <td>Black</td>\n",
       "    </tr>\n",
       "    <tr>\n",
       "      <th>120548</th>\n",
       "      <td>A823168</td>\n",
       "      <td>NaN</td>\n",
       "      <td>09/17/2020 07:35:00 PM</td>\n",
       "      <td>09/17/2020 07:35:00 PM</td>\n",
       "      <td>08/25/2020</td>\n",
       "      <td>Transfer</td>\n",
       "      <td>Partner</td>\n",
       "      <td>Cat</td>\n",
       "      <td>Intact Female</td>\n",
       "      <td>3 weeks</td>\n",
       "      <td>Domestic Shorthair</td>\n",
       "      <td>Blue</td>\n",
       "    </tr>\n",
       "    <tr>\n",
       "      <th>120549</th>\n",
       "      <td>A823016</td>\n",
       "      <td>NaN</td>\n",
       "      <td>09/18/2020 05:03:00 PM</td>\n",
       "      <td>09/18/2020 05:03:00 PM</td>\n",
       "      <td>03/14/2020</td>\n",
       "      <td>Euthanasia</td>\n",
       "      <td>Rabies Risk</td>\n",
       "      <td>Other</td>\n",
       "      <td>Unknown</td>\n",
       "      <td>6 months</td>\n",
       "      <td>Opossum</td>\n",
       "      <td>Gray/White</td>\n",
       "    </tr>\n",
       "  </tbody>\n",
       "</table>\n",
       "<p>120550 rows × 12 columns</p>\n",
       "</div>"
      ],
      "text/plain": [
       "       Animal ID        Name                DateTime               MonthYear  \\\n",
       "0        A794011       Chunk  05/08/2019 06:20:00 PM  05/08/2019 06:20:00 PM   \n",
       "1        A776359       Gizmo  07/18/2018 04:02:00 PM  07/18/2018 04:02:00 PM   \n",
       "2        A720371       Moose  02/13/2016 05:59:00 PM  02/13/2016 05:59:00 PM   \n",
       "3        A674754         NaN  03/18/2014 11:47:00 AM  03/18/2014 11:47:00 AM   \n",
       "4        A689724  *Donatello  10/18/2014 06:52:00 PM  10/18/2014 06:52:00 PM   \n",
       "...          ...         ...                     ...                     ...   \n",
       "120545   A823165         NaN  09/17/2020 07:35:00 PM  09/17/2020 07:35:00 PM   \n",
       "120546   A823167         NaN  09/17/2020 07:35:00 PM  09/17/2020 07:35:00 PM   \n",
       "120547   A823166         NaN  09/17/2020 07:35:00 PM  09/17/2020 07:35:00 PM   \n",
       "120548   A823168         NaN  09/17/2020 07:35:00 PM  09/17/2020 07:35:00 PM   \n",
       "120549   A823016         NaN  09/18/2020 05:03:00 PM  09/18/2020 05:03:00 PM   \n",
       "\n",
       "       Date of Birth Outcome Type Outcome Subtype Animal Type  \\\n",
       "0         05/02/2017    Rto-Adopt             NaN         Cat   \n",
       "1         07/12/2017     Adoption             NaN         Dog   \n",
       "2         10/08/2015     Adoption             NaN         Dog   \n",
       "3         03/12/2014     Transfer         Partner         Cat   \n",
       "4         08/01/2014     Adoption             NaN         Cat   \n",
       "...              ...          ...             ...         ...   \n",
       "120545    08/25/2020     Transfer         Partner         Cat   \n",
       "120546    08/25/2020     Transfer         Partner         Cat   \n",
       "120547    08/25/2020     Transfer         Partner         Cat   \n",
       "120548    08/25/2020     Transfer         Partner         Cat   \n",
       "120549    03/14/2020   Euthanasia     Rabies Risk       Other   \n",
       "\n",
       "       Sex upon Outcome Age upon Outcome                               Breed  \\\n",
       "0         Neutered Male          2 years              Domestic Shorthair Mix   \n",
       "1         Neutered Male           1 year             Chihuahua Shorthair Mix   \n",
       "2         Neutered Male         4 months  Anatol Shepherd/Labrador Retriever   \n",
       "3           Intact Male           6 days              Domestic Shorthair Mix   \n",
       "4         Neutered Male         2 months              Domestic Shorthair Mix   \n",
       "...                 ...              ...                                 ...   \n",
       "120545    Intact Female          3 weeks                  Domestic Shorthair   \n",
       "120546    Intact Female          3 weeks                  Domestic Shorthair   \n",
       "120547    Intact Female          3 weeks                  Domestic Shorthair   \n",
       "120548    Intact Female          3 weeks                  Domestic Shorthair   \n",
       "120549          Unknown         6 months                             Opossum   \n",
       "\n",
       "                    Color  \n",
       "0       Brown Tabby/White  \n",
       "1             White/Brown  \n",
       "2                    Buff  \n",
       "3            Orange Tabby  \n",
       "4                   Black  \n",
       "...                   ...  \n",
       "120545              Black  \n",
       "120546              Black  \n",
       "120547              Black  \n",
       "120548               Blue  \n",
       "120549         Gray/White  \n",
       "\n",
       "[120550 rows x 12 columns]"
      ]
     },
     "execution_count": 8,
     "metadata": {},
     "output_type": "execute_result"
    }
   ],
   "source": [
    "animal"
   ]
  },
  {
   "cell_type": "code",
   "execution_count": 9,
   "metadata": {},
   "outputs": [
    {
     "data": {
      "text/html": [
       "<div>\n",
       "<style scoped>\n",
       "    .dataframe tbody tr th:only-of-type {\n",
       "        vertical-align: middle;\n",
       "    }\n",
       "\n",
       "    .dataframe tbody tr th {\n",
       "        vertical-align: top;\n",
       "    }\n",
       "\n",
       "    .dataframe thead th {\n",
       "        text-align: right;\n",
       "    }\n",
       "</style>\n",
       "<table border=\"1\" class=\"dataframe\">\n",
       "  <thead>\n",
       "    <tr style=\"text-align: right;\">\n",
       "      <th></th>\n",
       "      <th>Animal ID</th>\n",
       "      <th>Name</th>\n",
       "      <th>DateTime</th>\n",
       "      <th>MonthYear</th>\n",
       "      <th>Date of Birth</th>\n",
       "      <th>Outcome Type</th>\n",
       "      <th>Outcome Subtype</th>\n",
       "      <th>Animal Type</th>\n",
       "      <th>Sex upon Outcome</th>\n",
       "      <th>Age upon Outcome</th>\n",
       "      <th>Breed</th>\n",
       "      <th>Color</th>\n",
       "    </tr>\n",
       "  </thead>\n",
       "  <tbody>\n",
       "    <tr>\n",
       "      <th>count</th>\n",
       "      <td>120550</td>\n",
       "      <td>82669</td>\n",
       "      <td>120550</td>\n",
       "      <td>120550</td>\n",
       "      <td>120550</td>\n",
       "      <td>120542</td>\n",
       "      <td>55200</td>\n",
       "      <td>120550</td>\n",
       "      <td>120549</td>\n",
       "      <td>120547</td>\n",
       "      <td>120550</td>\n",
       "      <td>120550</td>\n",
       "    </tr>\n",
       "    <tr>\n",
       "      <th>unique</th>\n",
       "      <td>107798</td>\n",
       "      <td>19275</td>\n",
       "      <td>99428</td>\n",
       "      <td>99428</td>\n",
       "      <td>6967</td>\n",
       "      <td>9</td>\n",
       "      <td>23</td>\n",
       "      <td>5</td>\n",
       "      <td>5</td>\n",
       "      <td>51</td>\n",
       "      <td>2595</td>\n",
       "      <td>588</td>\n",
       "    </tr>\n",
       "    <tr>\n",
       "      <th>top</th>\n",
       "      <td>A721033</td>\n",
       "      <td>Max</td>\n",
       "      <td>04/18/2016 12:00:00 AM</td>\n",
       "      <td>04/18/2016 12:00:00 AM</td>\n",
       "      <td>04/21/2014</td>\n",
       "      <td>Adoption</td>\n",
       "      <td>Partner</td>\n",
       "      <td>Dog</td>\n",
       "      <td>Neutered Male</td>\n",
       "      <td>1 year</td>\n",
       "      <td>Domestic Shorthair Mix</td>\n",
       "      <td>Black/White</td>\n",
       "    </tr>\n",
       "    <tr>\n",
       "      <th>freq</th>\n",
       "      <td>33</td>\n",
       "      <td>540</td>\n",
       "      <td>39</td>\n",
       "      <td>39</td>\n",
       "      <td>117</td>\n",
       "      <td>53185</td>\n",
       "      <td>29960</td>\n",
       "      <td>68363</td>\n",
       "      <td>42255</td>\n",
       "      <td>21548</td>\n",
       "      <td>31003</td>\n",
       "      <td>12634</td>\n",
       "    </tr>\n",
       "  </tbody>\n",
       "</table>\n",
       "</div>"
      ],
      "text/plain": [
       "       Animal ID   Name                DateTime               MonthYear  \\\n",
       "count     120550  82669                  120550                  120550   \n",
       "unique    107798  19275                   99428                   99428   \n",
       "top      A721033    Max  04/18/2016 12:00:00 AM  04/18/2016 12:00:00 AM   \n",
       "freq          33    540                      39                      39   \n",
       "\n",
       "       Date of Birth Outcome Type Outcome Subtype Animal Type  \\\n",
       "count         120550       120542           55200      120550   \n",
       "unique          6967            9              23           5   \n",
       "top       04/21/2014     Adoption         Partner         Dog   \n",
       "freq             117        53185           29960       68363   \n",
       "\n",
       "       Sex upon Outcome Age upon Outcome                   Breed        Color  \n",
       "count            120549           120547                  120550       120550  \n",
       "unique                5               51                    2595          588  \n",
       "top       Neutered Male           1 year  Domestic Shorthair Mix  Black/White  \n",
       "freq              42255            21548                   31003        12634  "
      ]
     },
     "execution_count": 9,
     "metadata": {},
     "output_type": "execute_result"
    }
   ],
   "source": [
    "animal.describe()"
   ]
  },
  {
   "cell_type": "code",
   "execution_count": 10,
   "metadata": {},
   "outputs": [],
   "source": [
    "array2 = new_array"
   ]
  },
  {
   "cell_type": "code",
   "execution_count": 11,
   "metadata": {},
   "outputs": [
    {
     "data": {
      "text/plain": [
       "array([ 4, 86,  4,  2,  6,  8,  5,  8, 34,  1])"
      ]
     },
     "execution_count": 11,
     "metadata": {},
     "output_type": "execute_result"
    }
   ],
   "source": [
    "array2"
   ]
  },
  {
   "cell_type": "code",
   "execution_count": 12,
   "metadata": {},
   "outputs": [
    {
     "data": {
      "text/plain": [
       "array([ True,  True,  True,  True,  True,  True,  True,  True,  True,\n",
       "        True])"
      ]
     },
     "execution_count": 12,
     "metadata": {},
     "output_type": "execute_result"
    }
   ],
   "source": [
    "array2 == new_array"
   ]
  },
  {
   "cell_type": "code",
   "execution_count": 13,
   "metadata": {},
   "outputs": [
    {
     "data": {
      "text/plain": [
       "True"
      ]
     },
     "execution_count": 13,
     "metadata": {},
     "output_type": "execute_result"
    }
   ],
   "source": [
    "array2 is new_array"
   ]
  },
  {
   "cell_type": "code",
   "execution_count": 14,
   "metadata": {},
   "outputs": [
    {
     "data": {
      "text/plain": [
       "array([  8, 172,   8,   4,  12,  16,  10,  16,  68,   2])"
      ]
     },
     "execution_count": 14,
     "metadata": {},
     "output_type": "execute_result"
    }
   ],
   "source": [
    "array2 * 2"
   ]
  },
  {
   "cell_type": "code",
   "execution_count": 15,
   "metadata": {},
   "outputs": [
    {
     "data": {
      "text/plain": [
       "True"
      ]
     },
     "execution_count": 15,
     "metadata": {},
     "output_type": "execute_result"
    }
   ],
   "source": [
    "array2 is new_array"
   ]
  },
  {
   "cell_type": "code",
   "execution_count": 16,
   "metadata": {},
   "outputs": [],
   "source": [
    "array2 *= 2"
   ]
  },
  {
   "cell_type": "code",
   "execution_count": 17,
   "metadata": {},
   "outputs": [
    {
     "data": {
      "text/plain": [
       "array([ True,  True,  True,  True,  True,  True,  True,  True,  True,\n",
       "        True])"
      ]
     },
     "execution_count": 17,
     "metadata": {},
     "output_type": "execute_result"
    }
   ],
   "source": [
    "array2 == new_array"
   ]
  },
  {
   "cell_type": "code",
   "execution_count": 18,
   "metadata": {},
   "outputs": [
    {
     "data": {
      "text/plain": [
       "array([  8, 172,   8,   4,  12,  16,  10,  16,  68,   2])"
      ]
     },
     "execution_count": 18,
     "metadata": {},
     "output_type": "execute_result"
    }
   ],
   "source": [
    "new_array"
   ]
  },
  {
   "cell_type": "code",
   "execution_count": 19,
   "metadata": {},
   "outputs": [
    {
     "data": {
      "text/plain": [
       "0          Rto-Adopt\n",
       "1           Adoption\n",
       "2           Adoption\n",
       "3           Transfer\n",
       "4           Adoption\n",
       "             ...    \n",
       "120545      Transfer\n",
       "120546      Transfer\n",
       "120547      Transfer\n",
       "120548      Transfer\n",
       "120549    Euthanasia\n",
       "Name: Outcome Type, Length: 120550, dtype: object"
      ]
     },
     "execution_count": 19,
     "metadata": {},
     "output_type": "execute_result"
    }
   ],
   "source": [
    "animal[\"Outcome Type\"]"
   ]
  },
  {
   "cell_type": "code",
   "execution_count": null,
   "metadata": {},
   "outputs": [],
   "source": []
  }
 ],
 "metadata": {
  "kernelspec": {
   "display_name": "Python 3",
   "language": "python",
   "name": "python3"
  },
  "language_info": {
   "codemirror_mode": {
    "name": "ipython",
    "version": 3
   },
   "file_extension": ".py",
   "mimetype": "text/x-python",
   "name": "python",
   "nbconvert_exporter": "python",
   "pygments_lexer": "ipython3",
   "version": "3.8.3"
  }
 },
 "nbformat": 4,
 "nbformat_minor": 4
}
